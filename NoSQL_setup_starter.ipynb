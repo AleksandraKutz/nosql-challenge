{
 "cells": [
  {
   "cell_type": "markdown",
   "id": "9a57c4c6",
   "metadata": {},
   "source": [
    "# Eat Safe, Love"
   ]
  },
  {
   "cell_type": "markdown",
   "id": "064ef857",
   "metadata": {},
   "source": [
    "## Part 1: Database and Jupyter Notebook Set Up"
   ]
  },
  {
   "cell_type": "markdown",
   "id": "664e3c1f",
   "metadata": {},
   "source": [
    "Import the data provided in the `establishments.json` file from your Terminal. Name the database `uk_food` and the collection `establishments`.\n",
    "\n",
    "Within this markdown cell, copy the line of text you used to import the data from your Terminal. This way, future analysts will be able to repeat your process.\n",
    "\n",
    "e.g.: Import the dataset with `mongoimport --type json -d uk_food -c establishments --drop --jsonArray establishments.json`"
   ]
  },
  {
   "cell_type": "code",
   "execution_count": 1,
   "id": "3ecdd008",
   "metadata": {},
   "outputs": [],
   "source": [
    "# Import dependencies\n",
    "from pymongo import MongoClient\n",
    "from pprint import pprint"
   ]
  },
  {
   "cell_type": "code",
   "execution_count": 2,
   "id": "59390c4a",
   "metadata": {},
   "outputs": [],
   "source": [
    "# Create an instance of MongoClient\n",
    "mongo = MongoClient(port=27017)"
   ]
  },
  {
   "cell_type": "code",
   "execution_count": 3,
   "id": "7f9ececa",
   "metadata": {},
   "outputs": [
    {
     "name": "stdout",
     "output_type": "stream",
     "text": [
      "['admin', 'annual_aqi_by_county_2022', 'autosaurus', 'classDB', 'config', 'epa', 'fruits_db', 'local', 'met', 'petsitly_marketing', 'test', 'uk_food']\n"
     ]
    }
   ],
   "source": [
    "# confirm that our new database was created\n",
    "print(mongo.list_database_names())"
   ]
  },
  {
   "cell_type": "code",
   "execution_count": 4,
   "id": "71e373c1",
   "metadata": {},
   "outputs": [],
   "source": [
    "# assign the uk_food database to a variable name\n",
    "db = mongo['uk_food']"
   ]
  },
  {
   "cell_type": "code",
   "execution_count": 5,
   "id": "ef1b89ed",
   "metadata": {},
   "outputs": [
    {
     "name": "stdout",
     "output_type": "stream",
     "text": [
      "['establishments']\n"
     ]
    }
   ],
   "source": [
    "# review the collections in our new database\n",
    "print(db.list_collection_names())"
   ]
  },
  {
   "cell_type": "code",
   "execution_count": 6,
   "id": "18ab463c",
   "metadata": {},
   "outputs": [
    {
     "name": "stdout",
     "output_type": "stream",
     "text": [
      "['establishments']\n"
     ]
    }
   ],
   "source": [
    "# review the collections in our new database\n",
    "print(db.list_collection_names())"
   ]
  },
  {
   "cell_type": "code",
   "execution_count": 7,
   "id": "6a0d92df",
   "metadata": {},
   "outputs": [
    {
     "name": "stdout",
     "output_type": "stream",
     "text": [
      "{'AddressLine1': '1 The Droveway',\n",
      " 'AddressLine2': 'St Margarets Bay',\n",
      " 'AddressLine3': 'Kent',\n",
      " 'AddressLine4': '',\n",
      " 'BusinessName': 'FirstLight Bar & Café',\n",
      " 'BusinessType': 'Restaurant/Cafe/Canteen',\n",
      " 'BusinessTypeID': 1,\n",
      " 'ChangesByServerID': 0,\n",
      " 'Distance': 4587.64041272672,\n",
      " 'FHRSID': 1290215,\n",
      " 'LocalAuthorityBusinessID': 'PI/000083029',\n",
      " 'LocalAuthorityCode': '182',\n",
      " 'LocalAuthorityEmailAddress': 'publicprotection@dover.gov.uk',\n",
      " 'LocalAuthorityName': 'Dover',\n",
      " 'LocalAuthorityWebSite': 'http://www.dover.gov.uk/',\n",
      " 'NewRatingPending': False,\n",
      " 'Phone': '',\n",
      " 'PostCode': 'CT15 6DH',\n",
      " 'RatingDate': '2020-11-09T00:00:00',\n",
      " 'RatingKey': 'fhrs_5_en-gb',\n",
      " 'RatingValue': '5',\n",
      " 'RightToReply': '',\n",
      " 'SchemeType': 'FHRS',\n",
      " '_id': ObjectId('671956bb2cdf73a3186b9911'),\n",
      " 'geocode': {'latitude': '51.150625', 'longitude': '1.378231'},\n",
      " 'links': [{'href': 'https://api.ratings.food.gov.uk/establishments/1290215',\n",
      "            'rel': 'self'}],\n",
      " 'meta': {'dataSource': None,\n",
      "          'extractDate': '0001-01-01T00:00:00',\n",
      "          'itemCount': 0,\n",
      "          'pageNumber': 0,\n",
      "          'pageSize': 0,\n",
      "          'returncode': None,\n",
      "          'totalCount': 0,\n",
      "          'totalPages': 0},\n",
      " 'scores': {'ConfidenceInManagement': 5, 'Hygiene': 5, 'Structural': 5}}\n"
     ]
    }
   ],
   "source": [
    "# review a document in the establishments collection\n",
    "pprint(db.establishments.find_one())"
   ]
  },
  {
   "cell_type": "code",
   "execution_count": 8,
   "id": "11c9f11b",
   "metadata": {},
   "outputs": [],
   "source": [
    "# assign the collection to a variable\n",
    "establishments = db['establishments']"
   ]
  },
  {
   "cell_type": "markdown",
   "id": "d5671434",
   "metadata": {},
   "source": [
    "## Part 2: Update the Database"
   ]
  },
  {
   "cell_type": "markdown",
   "id": "314bd884",
   "metadata": {},
   "source": [
    "1. An exciting new halal restaurant just opened in Greenwich, but hasn't been rated yet. The magazine has asked you to include it in your analysis. Add the following restaurant \"Penang Flavours\" to the database."
   ]
  },
  {
   "cell_type": "code",
   "execution_count": 9,
   "id": "c2da7648",
   "metadata": {},
   "outputs": [],
   "source": [
    "# Create a dictionary for the new restaurant data\n",
    "restaurant_data = {\n",
    "    \"BusinessName\":\"Penang Flavours\",\n",
    "    \"BusinessType\":\"Restaurant/Cafe/Canteen\",\n",
    "    \"BusinessTypeID\":\"\",\n",
    "    \"AddressLine1\":\"Penang Flavours\",\n",
    "    \"AddressLine2\":\"146A Plumstead Rd\",\n",
    "    \"AddressLine3\":\"London\",\n",
    "    \"AddressLine4\":\"\",\n",
    "    \"PostCode\":\"SE18 7DY\",\n",
    "    \"Phone\":\"\",\n",
    "    \"LocalAuthorityCode\":\"511\",\n",
    "    \"LocalAuthorityName\":\"Greenwich\",\n",
    "    \"LocalAuthorityWebSite\":\"http://www.royalgreenwich.gov.uk\",\n",
    "    \"LocalAuthorityEmailAddress\":\"health@royalgreenwich.gov.uk\",\n",
    "    \"scores\":{\n",
    "        \"Hygiene\":\"\",\n",
    "        \"Structural\":\"\",\n",
    "        \"ConfidenceInManagement\":\"\"\n",
    "    },\n",
    "    \"SchemeType\":\"FHRS\",\n",
    "    \"geocode\":{\n",
    "        \"longitude\":\"0.08384000\",\n",
    "        \"latitude\":\"51.49014200\"\n",
    "    },\n",
    "    \"RightToReply\":\"\",\n",
    "    \"Distance\":4623.9723280747176,\n",
    "    \"NewRatingPending\":True\n",
    "}"
   ]
  },
  {
   "cell_type": "code",
   "execution_count": 10,
   "id": "a6e5cece",
   "metadata": {},
   "outputs": [
    {
     "data": {
      "text/plain": [
       "InsertOneResult(ObjectId('67195700de7874525fb2a843'), acknowledged=True)"
      ]
     },
     "execution_count": 10,
     "metadata": {},
     "output_type": "execute_result"
    }
   ],
   "source": [
    "# Insert the new restaurant into the collection\n",
    "establishments.insert_one(restaurant_data)"
   ]
  },
  {
   "cell_type": "code",
   "execution_count": 11,
   "id": "63bb10f9",
   "metadata": {},
   "outputs": [
    {
     "name": "stdout",
     "output_type": "stream",
     "text": [
      "{'AddressLine1': 'Penang Flavours',\n",
      " 'AddressLine2': '146A Plumstead Rd',\n",
      " 'AddressLine3': 'London',\n",
      " 'AddressLine4': '',\n",
      " 'BusinessName': 'Penang Flavours',\n",
      " 'BusinessType': 'Restaurant/Cafe/Canteen',\n",
      " 'BusinessTypeID': '',\n",
      " 'Distance': 4623.972328074718,\n",
      " 'LocalAuthorityCode': '511',\n",
      " 'LocalAuthorityEmailAddress': 'health@royalgreenwich.gov.uk',\n",
      " 'LocalAuthorityName': 'Greenwich',\n",
      " 'LocalAuthorityWebSite': 'http://www.royalgreenwich.gov.uk',\n",
      " 'NewRatingPending': True,\n",
      " 'Phone': '',\n",
      " 'PostCode': 'SE18 7DY',\n",
      " 'RightToReply': '',\n",
      " 'SchemeType': 'FHRS',\n",
      " '_id': ObjectId('67195700de7874525fb2a843'),\n",
      " 'geocode': {'latitude': '51.49014200', 'longitude': '0.08384000'},\n",
      " 'scores': {'ConfidenceInManagement': '', 'Hygiene': '', 'Structural': ''}}\n"
     ]
    }
   ],
   "source": [
    "# Check that the new restaurant was inserted\n",
    "query = {\"BusinessName\":{'$in': [\"Penang Flavours\"]} }\n",
    "results = establishments.find(query)\n",
    "for x in results:\n",
    "    pprint(x)"
   ]
  },
  {
   "cell_type": "markdown",
   "id": "0ef4395a",
   "metadata": {},
   "source": [
    "2. Find the BusinessTypeID for \"Restaurant/Cafe/Canteen\" and return only the `BusinessTypeID` and `BusinessType` fields."
   ]
  },
  {
   "cell_type": "code",
   "execution_count": 12,
   "id": "93c63829",
   "metadata": {},
   "outputs": [
    {
     "name": "stdout",
     "output_type": "stream",
     "text": [
      "{'BusinessType': 'Restaurant/Cafe/Canteen',\n",
      " 'BusinessTypeID': 1,\n",
      " '_id': ObjectId('671956bb2cdf73a3186b9911')}\n",
      "{'BusinessType': 'Restaurant/Cafe/Canteen',\n",
      " 'BusinessTypeID': 1,\n",
      " '_id': ObjectId('671956bb2cdf73a3186b9912')}\n",
      "{'BusinessType': 'Restaurant/Cafe/Canteen',\n",
      " 'BusinessTypeID': 1,\n",
      " '_id': ObjectId('671956bb2cdf73a3186b9914')}\n",
      "{'BusinessType': 'Restaurant/Cafe/Canteen',\n",
      " 'BusinessTypeID': 1,\n",
      " '_id': ObjectId('671956bb2cdf73a3186b9916')}\n",
      "{'BusinessType': 'Restaurant/Cafe/Canteen',\n",
      " 'BusinessTypeID': 1,\n",
      " '_id': ObjectId('671956bb2cdf73a3186b9919')}\n"
     ]
    }
   ],
   "source": [
    "# Find the BusinessTypeID for \"Restaurant/Cafe/Canteen\" and return only the BusinessTypeID and BusinessType fields\n",
    "query = {\"BusinessType\": \"Restaurant/Cafe/Canteen\"}\n",
    "retur = {\"BusinessTypeID\":1, \"BusinessType\" : 1}\n",
    "results = establishments.find(query, retur).limit(5)\n",
    "for x in results:\n",
    "    pprint(x)"
   ]
  },
  {
   "cell_type": "markdown",
   "id": "4e570caf",
   "metadata": {},
   "source": [
    "3. Update the new restaurant with the `BusinessTypeID` you found."
   ]
  },
  {
   "cell_type": "code",
   "execution_count": 13,
   "id": "7f599f3d",
   "metadata": {},
   "outputs": [
    {
     "data": {
      "text/plain": [
       "UpdateResult({'n': 1, 'nModified': 1, 'ok': 1.0, 'updatedExisting': True}, acknowledged=True)"
      ]
     },
     "execution_count": 13,
     "metadata": {},
     "output_type": "execute_result"
    }
   ],
   "source": [
    "# Update the new restaurant with the correct BusinessTypeID\n",
    "\n",
    "query = {\"BusinessName\":{'$in': [\"Penang Flavours\"]} }\n",
    "update = {'$set': {'BusinessTypeID': 1}}\n",
    "establishments.update_one(query, update)"
   ]
  },
  {
   "cell_type": "code",
   "execution_count": 14,
   "id": "a6ad16f7",
   "metadata": {},
   "outputs": [
    {
     "name": "stdout",
     "output_type": "stream",
     "text": [
      "{'AddressLine1': 'Penang Flavours',\n",
      " 'AddressLine2': '146A Plumstead Rd',\n",
      " 'AddressLine3': 'London',\n",
      " 'AddressLine4': '',\n",
      " 'BusinessName': 'Penang Flavours',\n",
      " 'BusinessType': 'Restaurant/Cafe/Canteen',\n",
      " 'BusinessTypeID': 1,\n",
      " 'Distance': 4623.972328074718,\n",
      " 'LocalAuthorityCode': '511',\n",
      " 'LocalAuthorityEmailAddress': 'health@royalgreenwich.gov.uk',\n",
      " 'LocalAuthorityName': 'Greenwich',\n",
      " 'LocalAuthorityWebSite': 'http://www.royalgreenwich.gov.uk',\n",
      " 'NewRatingPending': True,\n",
      " 'Phone': '',\n",
      " 'PostCode': 'SE18 7DY',\n",
      " 'RightToReply': '',\n",
      " 'SchemeType': 'FHRS',\n",
      " '_id': ObjectId('67195700de7874525fb2a843'),\n",
      " 'geocode': {'latitude': '51.49014200', 'longitude': '0.08384000'},\n",
      " 'scores': {'ConfidenceInManagement': '', 'Hygiene': '', 'Structural': ''}}\n"
     ]
    }
   ],
   "source": [
    "# Confirm that the new restaurant was updated\n",
    "\n",
    "updated_restaurant = establishments.find(query)\n",
    "for update in updated_restaurant:\n",
    "    pprint(update)"
   ]
  },
  {
   "cell_type": "markdown",
   "id": "67281254",
   "metadata": {},
   "source": [
    "4. The magazine is not interested in any establishments in Dover, so check how many documents contain the Dover Local Authority. Then, remove any establishments within the Dover Local Authority from the database, and check the number of documents to ensure they were deleted."
   ]
  },
  {
   "cell_type": "code",
   "execution_count": 15,
   "id": "768474a6",
   "metadata": {},
   "outputs": [
    {
     "name": "stdout",
     "output_type": "stream",
     "text": [
      "994\n"
     ]
    }
   ],
   "source": [
    "# Find how many documents have LocalAuthorityName as \"Dover\"\n",
    "\n",
    "query = {'LocalAuthorityName': \"Dover\"}\n",
    "Dover_doc = establishments.find(query)\n",
    "doc_count = 0\n",
    "for doc in Dover_doc:\n",
    "    doc_count +=1\n",
    "print(doc_count)"
   ]
  },
  {
   "cell_type": "code",
   "execution_count": 16,
   "id": "a11d5f1b",
   "metadata": {},
   "outputs": [
    {
     "data": {
      "text/plain": [
       "DeleteResult({'n': 994, 'ok': 1.0}, acknowledged=True)"
      ]
     },
     "execution_count": 16,
     "metadata": {},
     "output_type": "execute_result"
    }
   ],
   "source": [
    "# Delete all documents where LocalAuthorityName is \"Dover\"\n",
    "\n",
    "query = {'LocalAuthorityName': \"Dover\"}\n",
    "establishments.delete_many(query)"
   ]
  },
  {
   "cell_type": "code",
   "execution_count": 17,
   "id": "2a51aba0",
   "metadata": {},
   "outputs": [
    {
     "name": "stdout",
     "output_type": "stream",
     "text": [
      "0\n"
     ]
    }
   ],
   "source": [
    "# Check if any remaining documents include Dover\n",
    "\n",
    "doc_count = 0\n",
    "for doc in Dover_doc:\n",
    "    doc_count +=1\n",
    "print(doc_count)"
   ]
  },
  {
   "cell_type": "code",
   "execution_count": 18,
   "id": "8c356f7b",
   "metadata": {},
   "outputs": [
    {
     "name": "stdout",
     "output_type": "stream",
     "text": [
      "{'AddressLine1': 'East Cliff Pavilion',\n",
      " 'AddressLine2': 'Wear Bay Road',\n",
      " 'AddressLine3': 'Folkestone',\n",
      " 'AddressLine4': 'Kent',\n",
      " 'BusinessName': 'The Pavilion',\n",
      " 'BusinessType': 'Restaurant/Cafe/Canteen',\n",
      " 'BusinessTypeID': 1,\n",
      " 'ChangesByServerID': 0,\n",
      " 'Distance': 4591.765489457773,\n",
      " 'FHRSID': 1043695,\n",
      " 'LocalAuthorityBusinessID': 'PI/000073616',\n",
      " 'LocalAuthorityCode': '188',\n",
      " 'LocalAuthorityEmailAddress': 'foodteam@folkestone-hythe.gov.uk',\n",
      " 'LocalAuthorityName': 'Folkestone and Hythe',\n",
      " 'LocalAuthorityWebSite': 'http://www.folkestone-hythe.gov.uk',\n",
      " 'NewRatingPending': False,\n",
      " 'Phone': '',\n",
      " 'PostCode': 'CT19 6BL',\n",
      " 'RatingDate': '2018-04-04T00:00:00',\n",
      " 'RatingKey': 'fhrs_5_en-gb',\n",
      " 'RatingValue': '5',\n",
      " 'RightToReply': '',\n",
      " 'SchemeType': 'FHRS',\n",
      " '_id': ObjectId('671956bb2cdf73a3186b9bf6'),\n",
      " 'geocode': {'latitude': '51.083812', 'longitude': '1.195625'},\n",
      " 'links': [{'href': 'https://api.ratings.food.gov.uk/establishments/1043695',\n",
      "            'rel': 'self'}],\n",
      " 'meta': {'dataSource': None,\n",
      "          'extractDate': '0001-01-01T00:00:00',\n",
      "          'itemCount': 0,\n",
      "          'pageNumber': 0,\n",
      "          'pageSize': 0,\n",
      "          'returncode': None,\n",
      "          'totalCount': 0,\n",
      "          'totalPages': 0},\n",
      " 'scores': {'ConfidenceInManagement': 5, 'Hygiene': 5, 'Structural': 5}}\n"
     ]
    }
   ],
   "source": [
    "# Check that other documents remain with 'find_one'\n",
    "\n",
    "remaining_document = establishments.find_one()\n",
    "pprint(remaining_document)"
   ]
  },
  {
   "cell_type": "markdown",
   "id": "e9f1662d",
   "metadata": {},
   "source": [
    "5. Some of the number values are stored as strings, when they should be stored as numbers."
   ]
  },
  {
   "cell_type": "markdown",
   "id": "c46df2df",
   "metadata": {},
   "source": [
    "Use `update_many` to convert `latitude` and `longitude` to decimal numbers."
   ]
  },
  {
   "cell_type": "code",
   "execution_count": 19,
   "id": "fd4112ce",
   "metadata": {},
   "outputs": [
    {
     "data": {
      "text/plain": [
       "UpdateResult({'n': 38786, 'nModified': 38786, 'ok': 1.0, 'updatedExisting': True}, acknowledged=True)"
      ]
     },
     "execution_count": 19,
     "metadata": {},
     "output_type": "execute_result"
    }
   ],
   "source": [
    "# Change the data type from String to Decimal for longitude and latitude\n",
    "\n",
    "establishments.update_many({}, [\n",
    "    {'$set': {\n",
    "        'geocode.latitude': {\n",
    "            '$convert': {\n",
    "                'input': '$geocode.latitude',\n",
    "                'to': 'double',\n",
    "                'onError': None,\n",
    "                'onNull': None\n",
    "            }\n",
    "        },\n",
    "        'geocode.longitude': {\n",
    "            '$convert': {\n",
    "                'input': '$geocode.longitude',\n",
    "                'to': 'double',\n",
    "                'onError': None,\n",
    "                'onNull': None\n",
    "            }}}}])"
   ]
  },
  {
   "cell_type": "markdown",
   "id": "142e319c",
   "metadata": {},
   "source": [
    "Use `update_many` to convert `RatingValue` to integer numbers."
   ]
  },
  {
   "cell_type": "code",
   "execution_count": 20,
   "id": "04430a5b",
   "metadata": {},
   "outputs": [
    {
     "data": {
      "text/plain": [
       "UpdateResult({'n': 4091, 'nModified': 4091, 'ok': 1.0, 'updatedExisting': True}, acknowledged=True)"
      ]
     },
     "execution_count": 20,
     "metadata": {},
     "output_type": "execute_result"
    }
   ],
   "source": [
    "# Set non 1-5 Rating Values to Null\n",
    "\n",
    "non_ratings = [\"AwaitingInspection\", \"Awaiting Inspection\", \"AwaitingPublication\", \"Pass\", \"Exempt\"]\n",
    "establishments.update_many({\"RatingValue\": {\"$in\": non_ratings}}, [ {'$set':{ \"RatingValue\" : None}} ])"
   ]
  },
  {
   "cell_type": "code",
   "execution_count": 21,
   "id": "92524ccc",
   "metadata": {},
   "outputs": [
    {
     "data": {
      "text/plain": [
       "UpdateResult({'n': 38786, 'nModified': 34695, 'ok': 1.0, 'updatedExisting': True}, acknowledged=True)"
      ]
     },
     "execution_count": 21,
     "metadata": {},
     "output_type": "execute_result"
    }
   ],
   "source": [
    "# Change the data type from String to Integer for RatingValue\n",
    "\n",
    "establishments.update_many({}, [\n",
    "    {'$set': {\n",
    "        'RatingValue': {\n",
    "            '$convert': {\n",
    "                'input': '$RatingValue',\n",
    "                'to': 'int',\n",
    "                'onError': None,\n",
    "                'onNull': None\n",
    "            }}}}])"
   ]
  },
  {
   "cell_type": "code",
   "execution_count": 29,
   "id": "0deacaf9",
   "metadata": {},
   "outputs": [
    {
     "name": "stdout",
     "output_type": "stream",
     "text": [
      "{'_id': ObjectId('671956bb2cdf73a3186b9bf6'), 'latitudeType': 'double', 'longitudeType': 'double', 'ratingValueType': 'int'}\n",
      "{'_id': ObjectId('671956bb2cdf73a3186b9bf8'), 'latitudeType': 'double', 'longitudeType': 'double', 'ratingValueType': 'int'}\n",
      "{'_id': ObjectId('671956bb2cdf73a3186b9bfb'), 'latitudeType': 'double', 'longitudeType': 'double', 'ratingValueType': 'int'}\n",
      "{'_id': ObjectId('671956bb2cdf73a3186b9bfc'), 'latitudeType': 'double', 'longitudeType': 'double', 'ratingValueType': 'int'}\n",
      "{'_id': ObjectId('671956bb2cdf73a3186b9bfe'), 'latitudeType': 'double', 'longitudeType': 'double', 'ratingValueType': 'int'}\n",
      "{'_id': ObjectId('671956bb2cdf73a3186b9bff'), 'latitudeType': 'double', 'longitudeType': 'double', 'ratingValueType': 'int'}\n",
      "{'_id': ObjectId('671956bb2cdf73a3186b9c00'), 'latitudeType': 'double', 'longitudeType': 'double', 'ratingValueType': 'int'}\n",
      "{'_id': ObjectId('671956bb2cdf73a3186b9c01'), 'latitudeType': 'double', 'longitudeType': 'double', 'ratingValueType': 'int'}\n",
      "{'_id': ObjectId('671956bb2cdf73a3186b9c02'), 'latitudeType': 'double', 'longitudeType': 'double', 'ratingValueType': 'int'}\n",
      "{'_id': ObjectId('671956bb2cdf73a3186b9c03'), 'latitudeType': 'double', 'longitudeType': 'double', 'ratingValueType': 'int'}\n",
      "{'_id': ObjectId('671956bb2cdf73a3186b9c04'), 'latitudeType': 'double', 'longitudeType': 'double', 'ratingValueType': 'int'}\n",
      "{'_id': ObjectId('671956bb2cdf73a3186b9c05'), 'latitudeType': 'double', 'longitudeType': 'double', 'ratingValueType': 'int'}\n",
      "{'_id': ObjectId('671956bb2cdf73a3186b9c06'), 'latitudeType': 'double', 'longitudeType': 'double', 'ratingValueType': 'int'}\n",
      "{'_id': ObjectId('671956bb2cdf73a3186b9c07'), 'latitudeType': 'double', 'longitudeType': 'double', 'ratingValueType': 'int'}\n",
      "{'_id': ObjectId('671956bb2cdf73a3186b9c08'), 'latitudeType': 'double', 'longitudeType': 'double', 'ratingValueType': 'int'}\n",
      "{'_id': ObjectId('671956bb2cdf73a3186b9c09'), 'latitudeType': 'double', 'longitudeType': 'double', 'ratingValueType': 'int'}\n",
      "{'_id': ObjectId('671956bb2cdf73a3186b9c0a'), 'latitudeType': 'double', 'longitudeType': 'double', 'ratingValueType': 'int'}\n",
      "{'_id': ObjectId('671956bb2cdf73a3186b9c0b'), 'latitudeType': 'double', 'longitudeType': 'double', 'ratingValueType': 'int'}\n",
      "{'_id': ObjectId('671956bb2cdf73a3186b9c0c'), 'latitudeType': 'double', 'longitudeType': 'double', 'ratingValueType': 'int'}\n",
      "{'_id': ObjectId('671956bb2cdf73a3186b9c0d'), 'latitudeType': 'double', 'longitudeType': 'double', 'ratingValueType': 'int'}\n",
      "{'_id': ObjectId('671956bb2cdf73a3186b9c0e'), 'latitudeType': 'double', 'longitudeType': 'double', 'ratingValueType': 'int'}\n",
      "{'_id': ObjectId('671956bb2cdf73a3186b9c0f'), 'latitudeType': 'double', 'longitudeType': 'double', 'ratingValueType': 'int'}\n",
      "{'_id': ObjectId('671956bb2cdf73a3186b9c10'), 'latitudeType': 'double', 'longitudeType': 'double', 'ratingValueType': 'int'}\n",
      "{'_id': ObjectId('671956bb2cdf73a3186b9c11'), 'latitudeType': 'double', 'longitudeType': 'double', 'ratingValueType': 'int'}\n",
      "{'_id': ObjectId('671956bb2cdf73a3186b9c12'), 'latitudeType': 'double', 'longitudeType': 'double', 'ratingValueType': 'int'}\n",
      "{'_id': ObjectId('671956bb2cdf73a3186b9c13'), 'latitudeType': 'double', 'longitudeType': 'double', 'ratingValueType': 'int'}\n",
      "{'_id': ObjectId('671956bb2cdf73a3186b9c14'), 'latitudeType': 'double', 'longitudeType': 'double', 'ratingValueType': 'int'}\n",
      "{'_id': ObjectId('671956bb2cdf73a3186b9c15'), 'latitudeType': 'double', 'longitudeType': 'double', 'ratingValueType': 'int'}\n",
      "{'_id': ObjectId('671956bb2cdf73a3186b9c16'), 'latitudeType': 'double', 'longitudeType': 'double', 'ratingValueType': 'int'}\n",
      "{'_id': ObjectId('671956bb2cdf73a3186b9c17'), 'latitudeType': 'double', 'longitudeType': 'double', 'ratingValueType': 'int'}\n",
      "{'_id': ObjectId('671956bb2cdf73a3186b9c18'), 'latitudeType': 'double', 'longitudeType': 'double', 'ratingValueType': 'int'}\n",
      "{'_id': ObjectId('671956bb2cdf73a3186b9c19'), 'latitudeType': 'double', 'longitudeType': 'double', 'ratingValueType': 'int'}\n",
      "{'_id': ObjectId('671956bb2cdf73a3186b9c1a'), 'latitudeType': 'double', 'longitudeType': 'double', 'ratingValueType': 'int'}\n",
      "{'_id': ObjectId('671956bb2cdf73a3186b9c1b'), 'latitudeType': 'double', 'longitudeType': 'double', 'ratingValueType': 'int'}\n",
      "{'_id': ObjectId('671956bb2cdf73a3186b9c1c'), 'latitudeType': 'double', 'longitudeType': 'double', 'ratingValueType': 'int'}\n",
      "{'_id': ObjectId('671956bb2cdf73a3186b9c1d'), 'latitudeType': 'double', 'longitudeType': 'double', 'ratingValueType': 'int'}\n",
      "{'_id': ObjectId('671956bb2cdf73a3186b9c1e'), 'latitudeType': 'double', 'longitudeType': 'double', 'ratingValueType': 'int'}\n",
      "{'_id': ObjectId('671956bb2cdf73a3186b9c1f'), 'latitudeType': 'double', 'longitudeType': 'double', 'ratingValueType': 'int'}\n",
      "{'_id': ObjectId('671956bb2cdf73a3186b9c20'), 'latitudeType': 'double', 'longitudeType': 'double', 'ratingValueType': 'int'}\n",
      "{'_id': ObjectId('671956bb2cdf73a3186b9c21'), 'latitudeType': 'double', 'longitudeType': 'double', 'ratingValueType': 'int'}\n",
      "{'_id': ObjectId('671956bb2cdf73a3186b9c22'), 'latitudeType': 'double', 'longitudeType': 'double', 'ratingValueType': 'null'}\n",
      "{'_id': ObjectId('671956bb2cdf73a3186b9c23'), 'latitudeType': 'double', 'longitudeType': 'double', 'ratingValueType': 'int'}\n",
      "{'_id': ObjectId('671956bb2cdf73a3186b9c24'), 'latitudeType': 'double', 'longitudeType': 'double', 'ratingValueType': 'null'}\n",
      "{'_id': ObjectId('671956bb2cdf73a3186b9c26'), 'latitudeType': 'double', 'longitudeType': 'double', 'ratingValueType': 'int'}\n",
      "{'_id': ObjectId('671956bb2cdf73a3186b9c27'), 'latitudeType': 'double', 'longitudeType': 'double', 'ratingValueType': 'int'}\n",
      "{'_id': ObjectId('671956bb2cdf73a3186b9c28'), 'latitudeType': 'double', 'longitudeType': 'double', 'ratingValueType': 'int'}\n",
      "{'_id': ObjectId('671956bb2cdf73a3186b9c29'), 'latitudeType': 'double', 'longitudeType': 'double', 'ratingValueType': 'int'}\n",
      "{'_id': ObjectId('671956bb2cdf73a3186b9c2a'), 'latitudeType': 'double', 'longitudeType': 'double', 'ratingValueType': 'int'}\n",
      "{'_id': ObjectId('671956bb2cdf73a3186b9c2b'), 'latitudeType': 'double', 'longitudeType': 'double', 'ratingValueType': 'int'}\n",
      "{'_id': ObjectId('671956bb2cdf73a3186b9c2c'), 'latitudeType': 'double', 'longitudeType': 'double', 'ratingValueType': 'int'}\n",
      "{'_id': ObjectId('671956bb2cdf73a3186b9c2e'), 'latitudeType': 'double', 'longitudeType': 'double', 'ratingValueType': 'int'}\n",
      "{'_id': ObjectId('671956bb2cdf73a3186b9c2f'), 'latitudeType': 'double', 'longitudeType': 'double', 'ratingValueType': 'int'}\n",
      "{'_id': ObjectId('671956bb2cdf73a3186b9c30'), 'latitudeType': 'double', 'longitudeType': 'double', 'ratingValueType': 'int'}\n",
      "{'_id': ObjectId('671956bb2cdf73a3186b9c31'), 'latitudeType': 'double', 'longitudeType': 'double', 'ratingValueType': 'int'}\n",
      "{'_id': ObjectId('671956bb2cdf73a3186b9c32'), 'latitudeType': 'double', 'longitudeType': 'double', 'ratingValueType': 'int'}\n",
      "{'_id': ObjectId('671956bb2cdf73a3186b9c34'), 'latitudeType': 'double', 'longitudeType': 'double', 'ratingValueType': 'int'}\n",
      "{'_id': ObjectId('671956bb2cdf73a3186b9c36'), 'latitudeType': 'double', 'longitudeType': 'double', 'ratingValueType': 'int'}\n",
      "{'_id': ObjectId('671956bb2cdf73a3186b9c37'), 'latitudeType': 'double', 'longitudeType': 'double', 'ratingValueType': 'int'}\n",
      "{'_id': ObjectId('671956bb2cdf73a3186b9c38'), 'latitudeType': 'double', 'longitudeType': 'double', 'ratingValueType': 'int'}\n",
      "{'_id': ObjectId('671956bb2cdf73a3186b9c39'), 'latitudeType': 'double', 'longitudeType': 'double', 'ratingValueType': 'int'}\n",
      "{'_id': ObjectId('671956bb2cdf73a3186b9c3a'), 'latitudeType': 'double', 'longitudeType': 'double', 'ratingValueType': 'int'}\n",
      "{'_id': ObjectId('671956bb2cdf73a3186b9c3b'), 'latitudeType': 'double', 'longitudeType': 'double', 'ratingValueType': 'int'}\n",
      "{'_id': ObjectId('671956bb2cdf73a3186b9c3c'), 'latitudeType': 'double', 'longitudeType': 'double', 'ratingValueType': 'int'}\n",
      "{'_id': ObjectId('671956bb2cdf73a3186b9c3d'), 'latitudeType': 'double', 'longitudeType': 'double', 'ratingValueType': 'int'}\n",
      "{'_id': ObjectId('671956bb2cdf73a3186b9c3e'), 'latitudeType': 'double', 'longitudeType': 'double', 'ratingValueType': 'int'}\n",
      "{'_id': ObjectId('671956bb2cdf73a3186b9c3f'), 'latitudeType': 'double', 'longitudeType': 'double', 'ratingValueType': 'int'}\n",
      "{'_id': ObjectId('671956bb2cdf73a3186b9c44'), 'latitudeType': 'double', 'longitudeType': 'double', 'ratingValueType': 'int'}\n",
      "{'_id': ObjectId('671956bb2cdf73a3186b9c45'), 'latitudeType': 'double', 'longitudeType': 'double', 'ratingValueType': 'int'}\n",
      "{'_id': ObjectId('671956bb2cdf73a3186b9c46'), 'latitudeType': 'double', 'longitudeType': 'double', 'ratingValueType': 'int'}\n",
      "{'_id': ObjectId('671956bb2cdf73a3186b9c47'), 'latitudeType': 'double', 'longitudeType': 'double', 'ratingValueType': 'int'}\n",
      "{'_id': ObjectId('671956bb2cdf73a3186b9c48'), 'latitudeType': 'double', 'longitudeType': 'double', 'ratingValueType': 'null'}\n",
      "{'_id': ObjectId('671956bb2cdf73a3186b9c49'), 'latitudeType': 'double', 'longitudeType': 'double', 'ratingValueType': 'int'}\n",
      "{'_id': ObjectId('671956bb2cdf73a3186b9c4a'), 'latitudeType': 'double', 'longitudeType': 'double', 'ratingValueType': 'int'}\n",
      "{'_id': ObjectId('671956bb2cdf73a3186b9c4b'), 'latitudeType': 'double', 'longitudeType': 'double', 'ratingValueType': 'int'}\n",
      "{'_id': ObjectId('671956bb2cdf73a3186b9c4c'), 'latitudeType': 'double', 'longitudeType': 'double', 'ratingValueType': 'int'}\n",
      "{'_id': ObjectId('671956bb2cdf73a3186b9c4d'), 'latitudeType': 'double', 'longitudeType': 'double', 'ratingValueType': 'int'}\n",
      "{'_id': ObjectId('671956bb2cdf73a3186b9c4e'), 'latitudeType': 'double', 'longitudeType': 'double', 'ratingValueType': 'int'}\n",
      "{'_id': ObjectId('671956bb2cdf73a3186b9c4f'), 'latitudeType': 'double', 'longitudeType': 'double', 'ratingValueType': 'int'}\n",
      "{'_id': ObjectId('671956bb2cdf73a3186b9c50'), 'latitudeType': 'double', 'longitudeType': 'double', 'ratingValueType': 'int'}\n",
      "{'_id': ObjectId('671956bb2cdf73a3186b9c51'), 'latitudeType': 'double', 'longitudeType': 'double', 'ratingValueType': 'int'}\n",
      "{'_id': ObjectId('671956bb2cdf73a3186b9c52'), 'latitudeType': 'double', 'longitudeType': 'double', 'ratingValueType': 'int'}\n",
      "{'_id': ObjectId('671956bb2cdf73a3186b9c53'), 'latitudeType': 'double', 'longitudeType': 'double', 'ratingValueType': 'int'}\n",
      "{'_id': ObjectId('671956bb2cdf73a3186b9c54'), 'latitudeType': 'double', 'longitudeType': 'double', 'ratingValueType': 'int'}\n",
      "{'_id': ObjectId('671956bb2cdf73a3186b9c56'), 'latitudeType': 'double', 'longitudeType': 'double', 'ratingValueType': 'int'}\n",
      "{'_id': ObjectId('671956bb2cdf73a3186b9c57'), 'latitudeType': 'double', 'longitudeType': 'double', 'ratingValueType': 'int'}\n",
      "{'_id': ObjectId('671956bb2cdf73a3186b9c58'), 'latitudeType': 'double', 'longitudeType': 'double', 'ratingValueType': 'int'}\n",
      "{'_id': ObjectId('671956bb2cdf73a3186b9c59'), 'latitudeType': 'double', 'longitudeType': 'double', 'ratingValueType': 'int'}\n",
      "{'_id': ObjectId('671956bb2cdf73a3186b9c5a'), 'latitudeType': 'double', 'longitudeType': 'double', 'ratingValueType': 'int'}\n",
      "{'_id': ObjectId('671956bb2cdf73a3186b9c5b'), 'latitudeType': 'double', 'longitudeType': 'double', 'ratingValueType': 'int'}\n",
      "{'_id': ObjectId('671956bb2cdf73a3186b9c5c'), 'latitudeType': 'double', 'longitudeType': 'double', 'ratingValueType': 'int'}\n",
      "{'_id': ObjectId('671956bb2cdf73a3186b9c5d'), 'latitudeType': 'double', 'longitudeType': 'double', 'ratingValueType': 'int'}\n",
      "{'_id': ObjectId('671956bb2cdf73a3186b9c5e'), 'latitudeType': 'double', 'longitudeType': 'double', 'ratingValueType': 'int'}\n",
      "{'_id': ObjectId('671956bb2cdf73a3186b9c5f'), 'latitudeType': 'double', 'longitudeType': 'double', 'ratingValueType': 'int'}\n",
      "{'_id': ObjectId('671956bb2cdf73a3186b9c60'), 'latitudeType': 'double', 'longitudeType': 'double', 'ratingValueType': 'int'}\n",
      "{'_id': ObjectId('671956bb2cdf73a3186b9c61'), 'latitudeType': 'double', 'longitudeType': 'double', 'ratingValueType': 'int'}\n",
      "{'_id': ObjectId('671956bb2cdf73a3186b9c62'), 'latitudeType': 'double', 'longitudeType': 'double', 'ratingValueType': 'int'}\n",
      "{'_id': ObjectId('671956bb2cdf73a3186b9c63'), 'latitudeType': 'double', 'longitudeType': 'double', 'ratingValueType': 'int'}\n",
      "{'_id': ObjectId('671956bb2cdf73a3186b9c64'), 'latitudeType': 'double', 'longitudeType': 'double', 'ratingValueType': 'null'}\n",
      "{'_id': ObjectId('671956bb2cdf73a3186b9c65'), 'latitudeType': 'double', 'longitudeType': 'double', 'ratingValueType': 'int'}\n",
      "{'_id': ObjectId('671956bb2cdf73a3186b9c66'), 'latitudeType': 'double', 'longitudeType': 'double', 'ratingValueType': 'int'}\n",
      "{'_id': ObjectId('671956bb2cdf73a3186b9c67'), 'latitudeType': 'double', 'longitudeType': 'double', 'ratingValueType': 'int'}\n"
     ]
    },
    {
     "name": "stderr",
     "output_type": "stream",
     "text": [
      "IOPub data rate exceeded.\n",
      "The notebook server will temporarily stop sending output\n",
      "to the client in order to avoid crashing it.\n",
      "To change this limit, set the config variable\n",
      "`--NotebookApp.iopub_data_rate_limit`.\n",
      "\n",
      "Current values:\n",
      "NotebookApp.iopub_data_rate_limit=1000000.0 (bytes/sec)\n",
      "NotebookApp.rate_limit_window=3.0 (secs)\n",
      "\n"
     ]
    }
   ],
   "source": [
    "# Check that the coordinates and rating value are now numbers\n",
    "\n",
    "#I'm creating a pipeline named \"checking\":\n",
    "\n",
    "checking = [{\n",
    "        '$project': {\n",
    "            'latitudeType': {'$type': '$geocode.latitude'},\n",
    "            'longitudeType': {'$type': '$geocode.longitude'},\n",
    "            'ratingValueType': {'$type': '$RatingValue'}\n",
    "        }}]\n",
    "\n",
    "# I'm creating a line executes the aggregation pipeline defined in checking on the establishments collection. \n",
    "# The result will be stored in the results variable:\n",
    "\n",
    "results = establishments.aggregate(checking)\n",
    "\n",
    "# I'm creating a loop that prints out each document, which will contain the data types of latitude, \n",
    "#longitude, and RatingValue.\n",
    "\n",
    "for typee in results:\n",
    "    print(typee)"
   ]
  },
  {
   "cell_type": "code",
   "execution_count": null,
   "id": "6d5f9561",
   "metadata": {},
   "outputs": [],
   "source": []
  },
  {
   "cell_type": "code",
   "execution_count": null,
   "id": "11dcbe27",
   "metadata": {},
   "outputs": [],
   "source": []
  }
 ],
 "metadata": {
  "kernelspec": {
   "display_name": "Python 3 (ipykernel)",
   "language": "python",
   "name": "python3"
  },
  "language_info": {
   "codemirror_mode": {
    "name": "ipython",
    "version": 3
   },
   "file_extension": ".py",
   "mimetype": "text/x-python",
   "name": "python",
   "nbconvert_exporter": "python",
   "pygments_lexer": "ipython3",
   "version": "3.10.14"
  }
 },
 "nbformat": 4,
 "nbformat_minor": 5
}
